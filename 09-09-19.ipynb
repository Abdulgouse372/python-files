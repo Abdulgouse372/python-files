{
 "cells": [
  {
   "cell_type": "code",
   "execution_count": 8,
   "metadata": {},
   "outputs": [
    {
     "name": "stdout",
     "output_type": "stream",
     "text": [
      "['92']\n"
     ]
    }
   ],
   "source": [
    "a=['23','67','34','84','92','43']\n",
    "a.sort()\n",
    "print(a[:1:-5])"
   ]
  },
  {
   "cell_type": "code",
   "execution_count": 12,
   "metadata": {},
   "outputs": [
    {
     "name": "stdout",
     "output_type": "stream",
     "text": [
      "higher no is: 92\n"
     ]
    }
   ],
   "source": [
    "a=['23','67','34','84','92','43']\n",
    "a.sort()\n",
    "print(\"higher no is:\",a[5])"
   ]
  },
  {
   "cell_type": "code",
   "execution_count": 13,
   "metadata": {},
   "outputs": [
    {
     "name": "stdout",
     "output_type": "stream",
     "text": [
      "(1, 1)\n",
      "(2, 4)\n",
      "(33, 1)\n",
      "(3, 1)\n",
      "(4, 1)\n",
      "(56, 1)\n",
      "(7, 1)\n",
      "(8, 1)\n"
     ]
    }
   ],
   "source": [
    "s=[1,2,2,2,2,33,3,4,56,7,8]\n",
    "d={}\n",
    "for i in s:\n",
    "   d[i]=s.count(i)\n",
    "for k in d.items():\n",
    "   print(k)"
   ]
  },
  {
   "cell_type": "code",
   "execution_count": 15,
   "metadata": {},
   "outputs": [
    {
     "name": "stdout",
     "output_type": "stream",
     "text": [
      "4\n"
     ]
    }
   ],
   "source": [
    "s=[1,2,2,2,2,33,4,4,4,4,4,4,4,4,4,4,4,4,56,7,8]\n",
    "d={}\n",
    "for i in s:\n",
    "   d[i]=s.count(i)\n",
    "m=max(d.values())\n",
    "for k in d:\n",
    "   if m==d[k]:\n",
    "       print(k) "
   ]
  },
  {
   "cell_type": "code",
   "execution_count": 17,
   "metadata": {},
   "outputs": [
    {
     "name": "stdout",
     "output_type": "stream",
     "text": [
      "i\n",
      "am\n",
      "in\n",
      "home\n"
     ]
    }
   ],
   "source": [
    "l=\"i\",\"am\",\"in\",\"home\"\n",
    "for split in l:\n",
    "    print(split)"
   ]
  },
  {
   "cell_type": "code",
   "execution_count": 24,
   "metadata": {},
   "outputs": [
    {
     "name": "stdout",
     "output_type": "stream",
     "text": [
      "aiii\n",
      "ahsd\n",
      "ahdgf\n",
      "hshdf\n",
      "jkge\n",
      "jff\n"
     ]
    }
   ],
   "source": [
    "s=\"aiii ahsd ahdgf hshdf jkge jff\"\n",
    "b=a.split()\n",
    "for i in b:\n",
    "    print(i)"
   ]
  },
  {
   "cell_type": "code",
   "execution_count": 8,
   "metadata": {},
   "outputs": [
    {
     "name": "stdout",
     "output_type": "stream",
     "text": [
      "sa sa sa sad \n",
      "sa    3\n"
     ]
    }
   ],
   "source": [
    "a=input()\n",
    "s=a.split(\" \")\n",
    "d={}\n",
    "for i in s:\n",
    "    d[i]=s.count(i)\n",
    "m=max(d.values())\n",
    "for k in d:\n",
    "    if m==d[k]:\n",
    "        print(k,\"  \",m)"
   ]
  },
  {
   "cell_type": "code",
   "execution_count": null,
   "metadata": {},
   "outputs": [],
   "source": []
  }
 ],
 "metadata": {
  "kernelspec": {
   "display_name": "Python 3",
   "language": "python",
   "name": "python3"
  },
  "language_info": {
   "codemirror_mode": {
    "name": "ipython",
    "version": 3
   },
   "file_extension": ".py",
   "mimetype": "text/x-python",
   "name": "python",
   "nbconvert_exporter": "python",
   "pygments_lexer": "ipython3",
   "version": "3.7.3"
  }
 },
 "nbformat": 4,
 "nbformat_minor": 2
}
