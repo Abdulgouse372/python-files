{
 "cells": [
  {
   "cell_type": "code",
   "execution_count": 3,
   "metadata": {},
   "outputs": [
    {
     "name": "stdout",
     "output_type": "stream",
     "text": [
      "{'a': 65, 'c': 82, 'f': 36, 'd': 72, 'e': 91}\n",
      "{'a': 65, 'f': 36, 'd': 72, 'e': 91}\n"
     ]
    }
   ],
   "source": [
    "d={\"a\":65,\"c\":82,\"f\":36,\"d\":72,\"e\":91}\n",
    "t=d.copy()\n",
    "t.pop(\"c\")\n",
    "print(d)\n",
    "print(t)"
   ]
  },
  {
   "cell_type": "code",
   "execution_count": 6,
   "metadata": {},
   "outputs": [
    {
     "name": "stdout",
     "output_type": "stream",
     "text": [
      "e is topper 91\n",
      "c is topper 82\n",
      "d is topper 72\n"
     ]
    }
   ],
   "source": [
    "d={\"a\":65,\"c\":82,\"f\":36,\"d\":72,\"e\":91}\n",
    "s=d.copy()\n",
    "k=0\n",
    "while k<3:\n",
    "    for j in d:\n",
    "        t=max(s.values())\n",
    "        if t==d[j]:\n",
    "                print(j,\"is topper\",t)\n",
    "                del s[j]\n",
    "                k+=1"
   ]
  },
  {
   "cell_type": "code",
   "execution_count": null,
   "metadata": {},
   "outputs": [],
   "source": []
  },
  {
   "cell_type": "code",
   "execution_count": null,
   "metadata": {},
   "outputs": [],
   "source": []
  }
 ],
 "metadata": {
  "kernelspec": {
   "display_name": "Python 3",
   "language": "python",
   "name": "python3"
  },
  "language_info": {
   "codemirror_mode": {
    "name": "ipython",
    "version": 3
   },
   "file_extension": ".py",
   "mimetype": "text/x-python",
   "name": "python",
   "nbconvert_exporter": "python",
   "pygments_lexer": "ipython3",
   "version": "3.7.3"
  }
 },
 "nbformat": 4,
 "nbformat_minor": 2
}
