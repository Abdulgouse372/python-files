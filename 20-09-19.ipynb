{
 "cells": [
  {
   "cell_type": "markdown",
   "metadata": {},
   "source": [
    "## files"
   ]
  },
  {
   "cell_type": "code",
   "execution_count": 12,
   "metadata": {},
   "outputs": [
    {
     "name": "stdout",
     "output_type": "stream",
     "text": [
      "enter number :456\n",
      "15\n",
      "711111111111111"
     ]
    }
   ],
   "source": [
    "a={0:6,1:2,2:5,3:5,4:4,5:5,6:6,7:3,8:7,9:6}\n",
    "b=input(\"enter number :\")\n",
    "c=0\n",
    "for i in b:\n",
    "    c=c+a[int(i)]\n",
    "print(c)\n",
    "if c%2==0:\n",
    "    for k in range(0,c):\n",
    "        print(\"1\",end='')\n",
    "else:\n",
    "    print(\"7\",end='')\n",
    "    for l in range(1,c):\n",
    "        print(\"1\",end='')"
   ]
  },
  {
   "cell_type": "code",
   "execution_count": 18,
   "metadata": {},
   "outputs": [
    {
     "name": "stdout",
     "output_type": "stream",
     "text": [
      "enter number :234\n",
      "total stiks 14\n",
      "1111111"
     ]
    }
   ],
   "source": [
    "a={0:6,1:2,2:5,3:5,4:4,5:5,6:6,7:3,8:7,9:6}\n",
    "b=input(\"enter number :\")\n",
    "c=0\n",
    "for i in b:\n",
    "    c=c+a[int(i)]\n",
    "print(\"total stiks\",c)\n",
    "if c%2==0:\n",
    "    for k in range(0,(c//2)):\n",
    "        print(\"1\",end='')\n",
    "else:\n",
    "    print(\"7\",end='')\n",
    "    for l in range(1,(c//2)):\n",
    "        print(\"1\",end='')"
   ]
  },
  {
   "cell_type": "markdown",
   "metadata": {},
   "source": [
    "## legal number or not"
   ]
  },
  {
   "cell_type": "code",
   "execution_count": 21,
   "metadata": {},
   "outputs": [
    {
     "name": "stdout",
     "output_type": "stream",
     "text": [
      "enter ISBN number: 1234\n",
      "enter 10 digit number\n"
     ]
    }
   ],
   "source": [
    "a=input(\"enter ISBN number: \")\n",
    "k=1\n",
    "c=0\n",
    "p=0\n",
    "for j in a:\n",
    "    p=p+1\n",
    "if p==10:\n",
    "    for i in a:\n",
    "        c=c+(k*int(i))\n",
    "        k+=1\n",
    "    if c%11==0:\n",
    "        print(\"legal number\")\n",
    "    else:\n",
    "        print(\"not legal number\")\n",
    "else:\n",
    "    print(\"enter 10 digit number\")"
   ]
  },
  {
   "cell_type": "code",
   "execution_count": null,
   "metadata": {},
   "outputs": [],
   "source": []
  }
 ],
 "metadata": {
  "kernelspec": {
   "display_name": "Python 3",
   "language": "python",
   "name": "python3"
  },
  "language_info": {
   "codemirror_mode": {
    "name": "ipython",
    "version": 3
   },
   "file_extension": ".py",
   "mimetype": "text/x-python",
   "name": "python",
   "nbconvert_exporter": "python",
   "pygments_lexer": "ipython3",
   "version": "3.7.3"
  }
 },
 "nbformat": 4,
 "nbformat_minor": 2
}
